{
  "cells": [
    {
      "cell_type": "markdown",
      "metadata": {
        "id": "Ix9Pcoq47fHT"
      },
      "source": [
        "**Introdução a modelos de classificação de dados em Machine Learning**\n",
        " \n",
        "Você sabe como funciona um modelo supervisionado de classificação em machine learning? Na aula de hoje vamos aprender a como criar um classificador automático e inteligente utilizando ferramentas de machine learning. Vamos lá? 😀\n",
        "\n",
        "**Case: Classificação de insetos gafanhotos e esperanças**\n",
        "\n",
        "Um certo cientista coletou dados de amostra sobre uma população de insetos da espécie gafanhoto e esperança para realizar um estudo e identificar uma forma de encontrar diferenças entre os tipos de insetos analisando algumas das características presentes no corpo dos insetos.\n",
        "\n",
        "Com base em suas pesquisas e análises, o cientista identificou que as características do tamanho do abdomên e comprimento das antenas desses insetos podem ser um fator muito relevante para a identificação da espécie.\n",
        "\n",
        "O cientista precisa encontrar uma maneira de identificar de forma **automática e precisa** os padrões dessas características que podem classificar quando um inseto é do tipo gafanhoto ou do tipo esperança.\n",
        "\n",
        "Vamos aplicar machine learning para resolver esse problema?\n"
      ]
    },
    {
      "cell_type": "code",
      "execution_count": 2,
      "metadata": {
        "id": "IraeNF0qZ6Pd"
      },
      "outputs": [],
      "source": [
        "import pandas as pd"
      ]
    },
    {
      "cell_type": "code",
      "execution_count": 52,
      "metadata": {
        "id": "Li1_w7IyZdgU"
      },
      "outputs": [],
      "source": [
        "dados = pd.read_excel('gaf_esp.xlsx')"
      ]
    },
    {
      "cell_type": "code",
      "execution_count": 4,
      "metadata": {
        "colab": {
          "base_uri": "https://localhost:8080/",
          "height": 206
        },
        "id": "oLW0MsN_aJW6",
        "outputId": "f4171621-cabf-446f-80ab-074209a46bb5"
      },
      "outputs": [
        {
          "data": {
            "text/html": [
              "<div>\n",
              "<style scoped>\n",
              "    .dataframe tbody tr th:only-of-type {\n",
              "        vertical-align: middle;\n",
              "    }\n",
              "\n",
              "    .dataframe tbody tr th {\n",
              "        vertical-align: top;\n",
              "    }\n",
              "\n",
              "    .dataframe thead th {\n",
              "        text-align: right;\n",
              "    }\n",
              "</style>\n",
              "<table border=\"1\" class=\"dataframe\">\n",
              "  <thead>\n",
              "    <tr style=\"text-align: right;\">\n",
              "      <th></th>\n",
              "      <th>Espécie</th>\n",
              "      <th>Comprimento do Abdômen</th>\n",
              "      <th>Comprimento das Antenas</th>\n",
              "    </tr>\n",
              "  </thead>\n",
              "  <tbody>\n",
              "    <tr>\n",
              "      <th>0</th>\n",
              "      <td>Gafanhoto</td>\n",
              "      <td>0.50</td>\n",
              "      <td>7.0</td>\n",
              "    </tr>\n",
              "    <tr>\n",
              "      <th>1</th>\n",
              "      <td>Gafanhoto</td>\n",
              "      <td>0.50</td>\n",
              "      <td>6.0</td>\n",
              "    </tr>\n",
              "    <tr>\n",
              "      <th>2</th>\n",
              "      <td>Gafanhoto</td>\n",
              "      <td>0.60</td>\n",
              "      <td>5.5</td>\n",
              "    </tr>\n",
              "    <tr>\n",
              "      <th>3</th>\n",
              "      <td>Gafanhoto</td>\n",
              "      <td>0.65</td>\n",
              "      <td>4.5</td>\n",
              "    </tr>\n",
              "    <tr>\n",
              "      <th>4</th>\n",
              "      <td>Gafanhoto</td>\n",
              "      <td>0.54</td>\n",
              "      <td>3.2</td>\n",
              "    </tr>\n",
              "  </tbody>\n",
              "</table>\n",
              "</div>"
            ],
            "text/plain": [
              "     Espécie  Comprimento do Abdômen  Comprimento das Antenas\n",
              "0  Gafanhoto                    0.50                      7.0\n",
              "1  Gafanhoto                    0.50                      6.0\n",
              "2  Gafanhoto                    0.60                      5.5\n",
              "3  Gafanhoto                    0.65                      4.5\n",
              "4  Gafanhoto                    0.54                      3.2"
            ]
          },
          "execution_count": 4,
          "metadata": {},
          "output_type": "execute_result"
        }
      ],
      "source": [
        "dados.head()"
      ]
    },
    {
      "cell_type": "code",
      "execution_count": 5,
      "metadata": {
        "colab": {
          "base_uri": "https://localhost:8080/",
          "height": 300
        },
        "id": "EVC0nrjmcmhQ",
        "outputId": "0a458ded-1e8f-428b-9145-9274992812bf"
      },
      "outputs": [
        {
          "data": {
            "text/html": [
              "<div>\n",
              "<style scoped>\n",
              "    .dataframe tbody tr th:only-of-type {\n",
              "        vertical-align: middle;\n",
              "    }\n",
              "\n",
              "    .dataframe tbody tr th {\n",
              "        vertical-align: top;\n",
              "    }\n",
              "\n",
              "    .dataframe thead th {\n",
              "        text-align: right;\n",
              "    }\n",
              "</style>\n",
              "<table border=\"1\" class=\"dataframe\">\n",
              "  <thead>\n",
              "    <tr style=\"text-align: right;\">\n",
              "      <th></th>\n",
              "      <th>Comprimento do Abdômen</th>\n",
              "      <th>Comprimento das Antenas</th>\n",
              "    </tr>\n",
              "  </thead>\n",
              "  <tbody>\n",
              "    <tr>\n",
              "      <th>count</th>\n",
              "      <td>100.000000</td>\n",
              "      <td>100.000000</td>\n",
              "    </tr>\n",
              "    <tr>\n",
              "      <th>mean</th>\n",
              "      <td>4.936200</td>\n",
              "      <td>5.382400</td>\n",
              "    </tr>\n",
              "    <tr>\n",
              "      <th>std</th>\n",
              "      <td>3.343806</td>\n",
              "      <td>2.296001</td>\n",
              "    </tr>\n",
              "    <tr>\n",
              "      <th>min</th>\n",
              "      <td>0.500000</td>\n",
              "      <td>0.890000</td>\n",
              "    </tr>\n",
              "    <tr>\n",
              "      <th>25%</th>\n",
              "      <td>1.692500</td>\n",
              "      <td>3.775000</td>\n",
              "    </tr>\n",
              "    <tr>\n",
              "      <th>50%</th>\n",
              "      <td>4.500000</td>\n",
              "      <td>5.500000</td>\n",
              "    </tr>\n",
              "    <tr>\n",
              "      <th>75%</th>\n",
              "      <td>8.200000</td>\n",
              "      <td>7.000000</td>\n",
              "    </tr>\n",
              "    <tr>\n",
              "      <th>max</th>\n",
              "      <td>10.000000</td>\n",
              "      <td>9.700000</td>\n",
              "    </tr>\n",
              "  </tbody>\n",
              "</table>\n",
              "</div>"
            ],
            "text/plain": [
              "       Comprimento do Abdômen  Comprimento das Antenas\n",
              "count              100.000000               100.000000\n",
              "mean                 4.936200                 5.382400\n",
              "std                  3.343806                 2.296001\n",
              "min                  0.500000                 0.890000\n",
              "25%                  1.692500                 3.775000\n",
              "50%                  4.500000                 5.500000\n",
              "75%                  8.200000                 7.000000\n",
              "max                 10.000000                 9.700000"
            ]
          },
          "execution_count": 5,
          "metadata": {},
          "output_type": "execute_result"
        }
      ],
      "source": [
        "dados.describe()"
      ]
    },
    {
      "cell_type": "code",
      "execution_count": 6,
      "metadata": {
        "colab": {
          "base_uri": "https://localhost:8080/",
          "height": 238
        },
        "id": "DOZmxM_BdOzd",
        "outputId": "b06ad846-0d03-4330-df7a-7d154fd18274"
      },
      "outputs": [
        {
          "data": {
            "text/html": [
              "<div>\n",
              "<style scoped>\n",
              "    .dataframe tbody tr th:only-of-type {\n",
              "        vertical-align: middle;\n",
              "    }\n",
              "\n",
              "    .dataframe tbody tr th {\n",
              "        vertical-align: top;\n",
              "    }\n",
              "\n",
              "    .dataframe thead tr th {\n",
              "        text-align: left;\n",
              "    }\n",
              "\n",
              "    .dataframe thead tr:last-of-type th {\n",
              "        text-align: right;\n",
              "    }\n",
              "</style>\n",
              "<table border=\"1\" class=\"dataframe\">\n",
              "  <thead>\n",
              "    <tr>\n",
              "      <th></th>\n",
              "      <th colspan=\"8\" halign=\"left\">Comprimento do Abdômen</th>\n",
              "      <th colspan=\"8\" halign=\"left\">Comprimento das Antenas</th>\n",
              "    </tr>\n",
              "    <tr>\n",
              "      <th></th>\n",
              "      <th>count</th>\n",
              "      <th>mean</th>\n",
              "      <th>std</th>\n",
              "      <th>min</th>\n",
              "      <th>25%</th>\n",
              "      <th>50%</th>\n",
              "      <th>75%</th>\n",
              "      <th>max</th>\n",
              "      <th>count</th>\n",
              "      <th>mean</th>\n",
              "      <th>std</th>\n",
              "      <th>min</th>\n",
              "      <th>25%</th>\n",
              "      <th>50%</th>\n",
              "      <th>75%</th>\n",
              "      <th>max</th>\n",
              "    </tr>\n",
              "    <tr>\n",
              "      <th>Espécie</th>\n",
              "      <th></th>\n",
              "      <th></th>\n",
              "      <th></th>\n",
              "      <th></th>\n",
              "      <th></th>\n",
              "      <th></th>\n",
              "      <th></th>\n",
              "      <th></th>\n",
              "      <th></th>\n",
              "      <th></th>\n",
              "      <th></th>\n",
              "      <th></th>\n",
              "      <th></th>\n",
              "      <th></th>\n",
              "      <th></th>\n",
              "      <th></th>\n",
              "    </tr>\n",
              "  </thead>\n",
              "  <tbody>\n",
              "    <tr>\n",
              "      <th>Esperança</th>\n",
              "      <td>50.0</td>\n",
              "      <td>8.1206</td>\n",
              "      <td>1.129729</td>\n",
              "      <td>5.4</td>\n",
              "      <td>7.225</td>\n",
              "      <td>8.200</td>\n",
              "      <td>9.000</td>\n",
              "      <td>10.0</td>\n",
              "      <td>50.0</td>\n",
              "      <td>7.2156</td>\n",
              "      <td>1.334945</td>\n",
              "      <td>4.50</td>\n",
              "      <td>6.205</td>\n",
              "      <td>7.00</td>\n",
              "      <td>8.2</td>\n",
              "      <td>9.7</td>\n",
              "    </tr>\n",
              "    <tr>\n",
              "      <th>Gafanhoto</th>\n",
              "      <td>50.0</td>\n",
              "      <td>1.7518</td>\n",
              "      <td>0.786941</td>\n",
              "      <td>0.5</td>\n",
              "      <td>1.200</td>\n",
              "      <td>1.685</td>\n",
              "      <td>2.415</td>\n",
              "      <td>3.6</td>\n",
              "      <td>50.0</td>\n",
              "      <td>3.5492</td>\n",
              "      <td>1.417861</td>\n",
              "      <td>0.89</td>\n",
              "      <td>2.550</td>\n",
              "      <td>3.77</td>\n",
              "      <td>4.3</td>\n",
              "      <td>7.0</td>\n",
              "    </tr>\n",
              "  </tbody>\n",
              "</table>\n",
              "</div>"
            ],
            "text/plain": [
              "          Comprimento do Abdômen                                              \\\n",
              "                           count    mean       std  min    25%    50%    75%   \n",
              "Espécie                                                                        \n",
              "Esperança                   50.0  8.1206  1.129729  5.4  7.225  8.200  9.000   \n",
              "Gafanhoto                   50.0  1.7518  0.786941  0.5  1.200  1.685  2.415   \n",
              "\n",
              "                Comprimento das Antenas                                       \\\n",
              "            max                   count    mean       std   min    25%   50%   \n",
              "Espécie                                                                        \n",
              "Esperança  10.0                    50.0  7.2156  1.334945  4.50  6.205  7.00   \n",
              "Gafanhoto   3.6                    50.0  3.5492  1.417861  0.89  2.550  3.77   \n",
              "\n",
              "                     \n",
              "           75%  max  \n",
              "Espécie              \n",
              "Esperança  8.2  9.7  \n",
              "Gafanhoto  4.3  7.0  "
            ]
          },
          "execution_count": 6,
          "metadata": {},
          "output_type": "execute_result"
        }
      ],
      "source": [
        "dados.groupby('Espécie').describe()"
      ]
    },
    {
      "cell_type": "markdown",
      "metadata": {
        "id": "mbzum_RUagTH"
      },
      "source": [
        "**Como funciona o modelo de classificação?**\n",
        "\n",
        "Vamos observar os dados com o gráfico de dispersão:"
      ]
    },
    {
      "cell_type": "code",
      "execution_count": 7,
      "metadata": {
        "colab": {
          "base_uri": "https://localhost:8080/",
          "height": 298
        },
        "id": "EoSJPVHRaME_",
        "outputId": "e0825182-0d42-4d7f-e7ff-5c8e5f19a496"
      },
      "outputs": [
        {
          "data": {
            "text/plain": [
              "<Axes: xlabel='Comprimento do Abdômen', ylabel='Comprimento das Antenas'>"
            ]
          },
          "execution_count": 7,
          "metadata": {},
          "output_type": "execute_result"
        },
        {
          "data": {
            "image/png": "[encoded data removed]",
            "text/plain": [
              "<Figure size 640x480 with 1 Axes>"
            ]
          },
          "metadata": {},
          "output_type": "display_data"
        }
      ],
      "source": [
        "dados.plot.scatter(x='Comprimento do Abdômen', y='Comprimento das Antenas')"
      ]
    },
    {
      "cell_type": "code",
      "execution_count": 8,
      "metadata": {
        "id": "g47u48wifnER"
      },
      "outputs": [],
      "source": [
        "#pip install -U scikit-learn\n",
        "from sklearn.model_selection import train_test_split"
      ]
    },
    {
      "cell_type": "code",
      "execution_count": 9,
      "metadata": {
        "id": "hPQB_At9hL-J"
      },
      "outputs": [],
      "source": [
        "x = dados[['Comprimento do Abdômen', 'Comprimento das Antenas']]\n",
        "y = dados['Espécie']"
      ]
    },
    {
      "cell_type": "code",
      "execution_count": 10,
      "metadata": {
        "id": "qENVYc7Ikk8m"
      },
      "outputs": [],
      "source": [
        "x_train, x_test, y_train, y_test = train_test_split(x, y, test_size=0.2, stratify=y,\n",
        "                                                    random_state=42)"
      ]
    },
    {
      "cell_type": "code",
      "execution_count": 11,
      "metadata": {
        "colab": {
          "base_uri": "https://localhost:8080/"
        },
        "id": "vDl0M9YcknI1",
        "outputId": "b43c73f3-4533-4e56-b83b-637645815e15"
      },
      "outputs": [
        {
          "data": {
            "text/plain": [
              "40"
            ]
          },
          "execution_count": 11,
          "metadata": {},
          "output_type": "execute_result"
        }
      ],
      "source": [
        "list(y_train).count('Gafanhoto')"
      ]
    },
    {
      "cell_type": "code",
      "execution_count": 12,
      "metadata": {
        "colab": {
          "base_uri": "https://localhost:8080/"
        },
        "id": "MchnVYby8OT0",
        "outputId": "fbc8ea59-8e11-41b1-c043-b30727523df6"
      },
      "outputs": [
        {
          "data": {
            "text/plain": [
              "40"
            ]
          },
          "execution_count": 12,
          "metadata": {},
          "output_type": "execute_result"
        }
      ],
      "source": [
        "list(y_train).count('Esperança')"
      ]
    },
    {
      "cell_type": "code",
      "execution_count": 13,
      "metadata": {
        "colab": {
          "base_uri": "https://localhost:8080/"
        },
        "id": "g1q8PCGcRPCV",
        "outputId": "bf67e3a8-f0dd-42f8-856f-d2e95be597d7"
      },
      "outputs": [
        {
          "name": "stdout",
          "output_type": "stream",
          "text": [
            "Total base de treino:  80\n",
            "Total base de teste:  20\n"
          ]
        }
      ],
      "source": [
        "print(\"Total base de treino: \", len(x_train))\n",
        "print(\"Total base de teste: \", len(y_test))\n"
      ]
    },
    {
      "cell_type": "code",
      "execution_count": 14,
      "metadata": {
        "id": "IGR2GzaRme7W"
      },
      "outputs": [],
      "source": [
        "from sklearn.neighbors import KNeighborsClassifier"
      ]
    },
    {
      "cell_type": "code",
      "execution_count": 15,
      "metadata": {
        "colab": {
          "base_uri": "https://localhost:8080/",
          "height": 74
        },
        "id": "x8uiv20Ymj4_",
        "outputId": "18489d0d-0fd1-49fc-b1b0-ac0303c4f7ce"
      },
      "outputs": [
        {
          "data": {
            "text/html": [
              "<style>#sk-container-id-1 {\n",
              "  /* Definition of color scheme common for light and dark mode */\n",
              "  --sklearn-color-text: black;\n",
              "  --sklearn-color-line: gray;\n",
              "  /* Definition of color scheme for unfitted estimators */\n",
              "  --sklearn-color-unfitted-level-0: #fff5e6;\n",
              "  --sklearn-color-unfitted-level-1: #f6e4d2;\n",
              "  --sklearn-color-unfitted-level-2: #ffe0b3;\n",
              "  --sklearn-color-unfitted-level-3: chocolate;\n",
              "  /* Definition of color scheme for fitted estimators */\n",
              "  --sklearn-color-fitted-level-0: #f0f8ff;\n",
              "  --sklearn-color-fitted-level-1: #d4ebff;\n",
              "  --sklearn-color-fitted-level-2: #b3dbfd;\n",
              "  --sklearn-color-fitted-level-3: cornflowerblue;\n",
              "\n",
              "  /* Specific color for light theme */\n",
              "  --sklearn-color-text-on-default-background: var(--sg-text-color, var(--theme-code-foreground, var(--jp-content-font-color1, black)));\n",
              "  --sklearn-color-background: var(--sg-background-color, var(--theme-background, var(--jp-layout-color0, white)));\n",
              "  --sklearn-color-border-box: var(--sg-text-color, var(--theme-code-foreground, var(--jp-content-font-color1, black)));\n",
              "  --sklearn-color-icon: #696969;\n",
              "\n",
              "  @media (prefers-color-scheme: dark) {\n",
              "    /* Redefinition of color scheme for dark theme */\n",
              "    --sklearn-color-text-on-default-background: var(--sg-text-color, var(--theme-code-foreground, var(--jp-content-font-color1, white)));\n",
              "    --sklearn-color-background: var(--sg-background-color, var(--theme-background, var(--jp-layout-color0, #111)));\n",
              "    --sklearn-color-border-box: var(--sg-text-color, var(--theme-code-foreground, var(--jp-content-font-color1, white)));\n",
              "    --sklearn-color-icon: #878787;\n",
              "  }\n",
              "}\n",
              "\n",
              "#sk-container-id-1 {\n",
              "  color: var(--sklearn-color-text);\n",
              "}\n",
              "\n",
              "#sk-container-id-1 pre {\n",
              "  padding: 0;\n",
              "}\n",
              "\n",
              "#sk-container-id-1 input.sk-hidden--visually {\n",
              "  border: 0;\n",
              "  clip: rect(1px 1px 1px 1px);\n",
              "  clip: rect(1px, 1px, 1px, 1px);\n",
              "  height: 1px;\n",
              "  margin: -1px;\n",
              "  overflow: hidden;\n",
              "  padding: 0;\n",
              "  position: absolute;\n",
              "  width: 1px;\n",
              "}\n",
              "\n",
              "#sk-container-id-1 div.sk-dashed-wrapped {\n",
              "  border: 1px dashed var(--sklearn-color-line);\n",
              "  margin: 0 0.4em 0.5em 0.4em;\n",
              "  box-sizing: border-box;\n",
              "  padding-bottom: 0.4em;\n",
              "  background-color: var(--sklearn-color-background);\n",
              "}\n",
              "\n",
              "#sk-container-id-1 div.sk-container {\n",
              "  /* jupyter's `normalize.less` sets `[hidden] { display: none; }`\n",
              "     but bootstrap.min.css set `[hidden] { display: none !important; }`\n",
              "     so we also need the `!important` here to be able to override the\n",
              "     default hidden behavior on the sphinx rendered scikit-learn.org.\n",
              "     See: https://github.com/scikit-learn/scikit-learn/issues/21755 */\n",
              "  display: inline-block !important;\n",
              "  position: relative;\n",
              "}\n",
              "\n",
              "#sk-container-id-1 div.sk-text-repr-fallback {\n",
              "  display: none;\n",
              "}\n",
              "\n",
              "div.sk-parallel-item,\n",
              "div.sk-serial,\n",
              "div.sk-item {\n",
              "  /* draw centered vertical line to link estimators */\n",
              "  background-image: linear-gradient(var(--sklearn-color-text-on-default-background), var(--sklearn-color-text-on-default-background));\n",
              "  background-size: 2px 100%;\n",
              "  background-repeat: no-repeat;\n",
              "  background-position: center center;\n",
              "}\n",
              "\n",
              "/* Parallel-specific style estimator block */\n",
              "\n",
              "#sk-container-id-1 div.sk-parallel-item::after {\n",
              "  content: \"\";\n",
              "  width: 100%;\n",
              "  border-bottom: 2px solid var(--sklearn-color-text-on-default-background);\n",
              "  flex-grow: 1;\n",
              "}\n",
              "\n",
              "#sk-container-id-1 div.sk-parallel {\n",
              "  display: flex;\n",
              "  align-items: stretch;\n",
              "  justify-content: center;\n",
              "  background-color: var(--sklearn-color-background);\n",
              "  position: relative;\n",
              "}\n",
              "\n",
              "#sk-container-id-1 div.sk-parallel-item {\n",
              "  display: flex;\n",
              "  flex-direction: column;\n",
              "}\n",
              "\n",
              "#sk-container-id-1 div.sk-parallel-item:first-child::after {\n",
              "  align-self: flex-end;\n",
              "  width: 50%;\n",
              "}\n",
              "\n",
              "#sk-container-id-1 div.sk-parallel-item:last-child::after {\n",
              "  align-self: flex-start;\n",
              "  width: 50%;\n",
              "}\n",
              "\n",
              "#sk-container-id-1 div.sk-parallel-item:only-child::after {\n",
              "  width: 0;\n",
              "}\n",
              "\n",
              "/* Serial-specific style estimator block */\n",
              "\n",
              "#sk-container-id-1 div.sk-serial {\n",
              "  display: flex;\n",
              "  flex-direction: column;\n",
              "  align-items: center;\n",
              "  background-color: var(--sklearn-color-background);\n",
              "  padding-right: 1em;\n",
              "  padding-left: 1em;\n",
              "}\n",
              "\n",
              "\n",
              "/* Toggleable style: style used for estimator/Pipeline/ColumnTransformer box that is\n",
              "clickable and can be expanded/collapsed.\n",
              "- Pipeline and ColumnTransformer use this feature and define the default style\n",
              "- Estimators will overwrite some part of the style using the `sk-estimator` class\n",
              "*/\n",
              "\n",
              "/* Pipeline and ColumnTransformer style (default) */\n",
              "\n",
              "#sk-container-id-1 div.sk-toggleable {\n",
              "  /* Default theme specific background. It is overwritten whether we have a\n",
              "  specific estimator or a Pipeline/ColumnTransformer */\n",
              "  background-color: var(--sklearn-color-background);\n",
              "}\n",
              "\n",
              "/* Toggleable label */\n",
              "#sk-container-id-1 label.sk-toggleable__label {\n",
              "  cursor: pointer;\n",
              "  display: block;\n",
              "  width: 100%;\n",
              "  margin-bottom: 0;\n",
              "  padding: 0.5em;\n",
              "  box-sizing: border-box;\n",
              "  text-align: center;\n",
              "}\n",
              "\n",
              "#sk-container-id-1 label.sk-toggleable__label-arrow:before {\n",
              "  /* Arrow on the left of the label */\n",
              "  content: \"▸\";\n",
              "  float: left;\n",
              "  margin-right: 0.25em;\n",
              "  color: var(--sklearn-color-icon);\n",
              "}\n",
              "\n",
              "#sk-container-id-1 label.sk-toggleable__label-arrow:hover:before {\n",
              "  color: var(--sklearn-color-text);\n",
              "}\n",
              "\n",
              "/* Toggleable content - dropdown */\n",
              "\n",
              "#sk-container-id-1 div.sk-toggleable__content {\n",
              "  max-height: 0;\n",
              "  max-width: 0;\n",
              "  overflow: hidden;\n",
              "  text-align: left;\n",
              "  /* unfitted */\n",
              "  background-color: var(--sklearn-color-unfitted-level-0);\n",
              "}\n",
              "\n",
              "#sk-container-id-1 div.sk-toggleable__content.fitted {\n",
              "  /* fitted */\n",
              "  background-color: var(--sklearn-color-fitted-level-0);\n",
              "}\n",
              "\n",
              "#sk-container-id-1 div.sk-toggleable__content pre {\n",
              "  margin: 0.2em;\n",
              "  border-radius: 0.25em;\n",
              "  color: var(--sklearn-color-text);\n",
              "  /* unfitted */\n",
              "  background-color: var(--sklearn-color-unfitted-level-0);\n",
              "}\n",
              "\n",
              "#sk-container-id-1 div.sk-toggleable__content.fitted pre {\n",
              "  /* unfitted */\n",
              "  background-color: var(--sklearn-color-fitted-level-0);\n",
              "}\n",
              "\n",
              "#sk-container-id-1 input.sk-toggleable__control:checked~div.sk-toggleable__content {\n",
              "  /* Expand drop-down */\n",
              "  max-height: 200px;\n",
              "  max-width: 100%;\n",
              "  overflow: auto;\n",
              "}\n",
              "\n",
              "#sk-container-id-1 input.sk-toggleable__control:checked~label.sk-toggleable__label-arrow:before {\n",
              "  content: \"▾\";\n",
              "}\n",
              "\n",
              "/* Pipeline/ColumnTransformer-specific style */\n",
              "\n",
              "#sk-container-id-1 div.sk-label input.sk-toggleable__control:checked~label.sk-toggleable__label {\n",
              "  color: var(--sklearn-color-text);\n",
              "  background-color: var(--sklearn-color-unfitted-level-2);\n",
              "}\n",
              "\n",
              "#sk-container-id-1 div.sk-label.fitted input.sk-toggleable__control:checked~label.sk-toggleable__label {\n",
              "  background-color: var(--sklearn-color-fitted-level-2);\n",
              "}\n",
              "\n",
              "/* Estimator-specific style */\n",
              "\n",
              "/* Colorize estimator box */\n",
              "#sk-container-id-1 div.sk-estimator input.sk-toggleable__control:checked~label.sk-toggleable__label {\n",
              "  /* unfitted */\n",
              "  background-color: var(--sklearn-color-unfitted-level-2);\n",
              "}\n",
              "\n",
              "#sk-container-id-1 div.sk-estimator.fitted input.sk-toggleable__control:checked~label.sk-toggleable__label {\n",
              "  /* fitted */\n",
              "  background-color: var(--sklearn-color-fitted-level-2);\n",
              "}\n",
              "\n",
              "#sk-container-id-1 div.sk-label label.sk-toggleable__label,\n",
              "#sk-container-id-1 div.sk-label label {\n",
              "  /* The background is the default theme color */\n",
              "  color: var(--sklearn-color-text-on-default-background);\n",
              "}\n",
              "\n",
              "/* On hover, darken the color of the background */\n",
              "#sk-container-id-1 div.sk-label:hover label.sk-toggleable__label {\n",
              "  color: var(--sklearn-color-text);\n",
              "  background-color: var(--sklearn-color-unfitted-level-2);\n",
              "}\n",
              "\n",
              "/* Label box, darken color on hover, fitted */\n",
              "#sk-container-id-1 div.sk-label.fitted:hover label.sk-toggleable__label.fitted {\n",
              "  color: var(--sklearn-color-text);\n",
              "  background-color: var(--sklearn-color-fitted-level-2);\n",
              "}\n",
              "\n",
              "/* Estimator label */\n",
              "\n",
              "#sk-container-id-1 div.sk-label label {\n",
              "  font-family: monospace;\n",
              "  font-weight: bold;\n",
              "  display: inline-block;\n",
              "  line-height: 1.2em;\n",
              "}\n",
              "\n",
              "#sk-container-id-1 div.sk-label-container {\n",
              "  text-align: center;\n",
              "}\n",
              "\n",
              "/* Estimator-specific */\n",
              "#sk-container-id-1 div.sk-estimator {\n",
              "  font-family: monospace;\n",
              "  border: 1px dotted var(--sklearn-color-border-box);\n",
              "  border-radius: 0.25em;\n",
              "  box-sizing: border-box;\n",
              "  margin-bottom: 0.5em;\n",
              "  /* unfitted */\n",
              "  background-color: var(--sklearn-color-unfitted-level-0);\n",
              "}\n",
              "\n",
              "#sk-container-id-1 div.sk-estimator.fitted {\n",
              "  /* fitted */\n",
              "  background-color: var(--sklearn-color-fitted-level-0);\n",
              "}\n",
              "\n",
              "/* on hover */\n",
              "#sk-container-id-1 div.sk-estimator:hover {\n",
              "  /* unfitted */\n",
              "  background-color: var(--sklearn-color-unfitted-level-2);\n",
              "}\n",
              "\n",
              "#sk-container-id-1 div.sk-estimator.fitted:hover {\n",
              "  /* fitted */\n",
              "  background-color: var(--sklearn-color-fitted-level-2);\n",
              "}\n",
              "\n",
              "/* Specification for estimator info (e.g. \"i\" and \"?\") */\n",
              "\n",
              "/* Common style for \"i\" and \"?\" */\n",
              "\n",
              ".sk-estimator-doc-link,\n",
              "a:link.sk-estimator-doc-link,\n",
              "a:visited.sk-estimator-doc-link {\n",
              "  float: right;\n",
              "  font-size: smaller;\n",
              "  line-height: 1em;\n",
              "  font-family: monospace;\n",
              "  background-color: var(--sklearn-color-background);\n",
              "  border-radius: 1em;\n",
              "  height: 1em;\n",
              "  width: 1em;\n",
              "  text-decoration: none !important;\n",
              "  margin-left: 1ex;\n",
              "  /* unfitted */\n",
              "  border: var(--sklearn-color-unfitted-level-1) 1pt solid;\n",
              "  color: var(--sklearn-color-unfitted-level-1);\n",
              "}\n",
              "\n",
              ".sk-estimator-doc-link.fitted,\n",
              "a:link.sk-estimator-doc-link.fitted,\n",
              "a:visited.sk-estimator-doc-link.fitted {\n",
              "  /* fitted */\n",
              "  border: var(--sklearn-color-fitted-level-1) 1pt solid;\n",
              "  color: var(--sklearn-color-fitted-level-1);\n",
              "}\n",
              "\n",
              "/* On hover */\n",
              "div.sk-estimator:hover .sk-estimator-doc-link:hover,\n",
              ".sk-estimator-doc-link:hover,\n",
              "div.sk-label-container:hover .sk-estimator-doc-link:hover,\n",
              ".sk-estimator-doc-link:hover {\n",
              "  /* unfitted */\n",
              "  background-color: var(--sklearn-color-unfitted-level-3);\n",
              "  color: var(--sklearn-color-background);\n",
              "  text-decoration: none;\n",
              "}\n",
              "\n",
              "div.sk-estimator.fitted:hover .sk-estimator-doc-link.fitted:hover,\n",
              ".sk-estimator-doc-link.fitted:hover,\n",
              "div.sk-label-container:hover .sk-estimator-doc-link.fitted:hover,\n",
              ".sk-estimator-doc-link.fitted:hover {\n",
              "  /* fitted */\n",
              "  background-color: var(--sklearn-color-fitted-level-3);\n",
              "  color: var(--sklearn-color-background);\n",
              "  text-decoration: none;\n",
              "}\n",
              "\n",
              "/* Span, style for the box shown on hovering the info icon */\n",
              ".sk-estimator-doc-link span {\n",
              "  display: none;\n",
              "  z-index: 9999;\n",
              "  position: relative;\n",
              "  font-weight: normal;\n",
              "  right: .2ex;\n",
              "  padding: .5ex;\n",
              "  margin: .5ex;\n",
              "  width: min-content;\n",
              "  min-width: 20ex;\n",
              "  max-width: 50ex;\n",
              "  color: var(--sklearn-color-text);\n",
              "  box-shadow: 2pt 2pt 4pt #999;\n",
              "  /* unfitted */\n",
              "  background: var(--sklearn-color-unfitted-level-0);\n",
              "  border: .5pt solid var(--sklearn-color-unfitted-level-3);\n",
              "}\n",
              "\n",
              ".sk-estimator-doc-link.fitted span {\n",
              "  /* fitted */\n",
              "  background: var(--sklearn-color-fitted-level-0);\n",
              "  border: var(--sklearn-color-fitted-level-3);\n",
              "}\n",
              "\n",
              ".sk-estimator-doc-link:hover span {\n",
              "  display: block;\n",
              "}\n",
              "\n",
              "/* \"?\"-specific style due to the `<a>` HTML tag */\n",
              "\n",
              "#sk-container-id-1 a.estimator_doc_link {\n",
              "  float: right;\n",
              "  font-size: 1rem;\n",
              "  line-height: 1em;\n",
              "  font-family: monospace;\n",
              "  background-color: var(--sklearn-color-background);\n",
              "  border-radius: 1rem;\n",
              "  height: 1rem;\n",
              "  width: 1rem;\n",
              "  text-decoration: none;\n",
              "  /* unfitted */\n",
              "  color: var(--sklearn-color-unfitted-level-1);\n",
              "  border: var(--sklearn-color-unfitted-level-1) 1pt solid;\n",
              "}\n",
              "\n",
              "#sk-container-id-1 a.estimator_doc_link.fitted {\n",
              "  /* fitted */\n",
              "  border: var(--sklearn-color-fitted-level-1) 1pt solid;\n",
              "  color: var(--sklearn-color-fitted-level-1);\n",
              "}\n",
              "\n",
              "/* On hover */\n",
              "#sk-container-id-1 a.estimator_doc_link:hover {\n",
              "  /* unfitted */\n",
              "  background-color: var(--sklearn-color-unfitted-level-3);\n",
              "  color: var(--sklearn-color-background);\n",
              "  text-decoration: none;\n",
              "}\n",
              "\n",
              "#sk-container-id-1 a.estimator_doc_link.fitted:hover {\n",
              "  /* fitted */\n",
              "  background-color: var(--sklearn-color-fitted-level-3);\n",
              "}\n",
              "</style><div id=\"sk-container-id-1\" class=\"sk-top-container\"><div class=\"sk-text-repr-fallback\"><pre>KNeighborsClassifier(n_neighbors=3)</pre><b>In a Jupyter environment, please rerun this cell to show the HTML representation or trust the notebook. <br />On GitHub, the HTML representation is unable to render, please try loading this page with nbviewer.org.</b></div><div class=\"sk-container\" hidden><div class=\"sk-item\"><div class=\"sk-estimator fitted sk-toggleable\"><input class=\"sk-toggleable__control sk-hidden--visually\" id=\"sk-estimator-id-1\" type=\"checkbox\" checked><label for=\"sk-estimator-id-1\" class=\"sk-toggleable__label fitted sk-toggleable__label-arrow fitted\">&nbsp;&nbsp;KNeighborsClassifier<a class=\"sk-estimator-doc-link fitted\" rel=\"noreferrer\" target=\"_blank\" href=\"https://scikit-learn.org/1.5/modules/generated/sklearn.neighbors.KNeighborsClassifier.html\">?<span>Documentation for KNeighborsClassifier</span></a><span class=\"sk-estimator-doc-link fitted\">i<span>Fitted</span></span></label><div class=\"sk-toggleable__content fitted\"><pre>KNeighborsClassifier(n_neighbors=3)</pre></div> </div></div></div></div>"
            ],
            "text/plain": [
              "KNeighborsClassifier(n_neighbors=3)"
            ]
          },
          "execution_count": 15,
          "metadata": {},
          "output_type": "execute_result"
        }
      ],
      "source": [
        "# Hiperparametro do nosos modelo é o número de vizinhos considerado (n_neighbors)\n",
        "modelo_classificador = KNeighborsClassifier(n_neighbors=3)\n",
        "\n",
        "# Está fazendo o treinamento do meu modelo de ML\n",
        "modelo_classificador.fit(x_train, y_train)"
      ]
    },
    {
      "cell_type": "code",
      "execution_count": 16,
      "metadata": {
        "colab": {
          "base_uri": "https://localhost:8080/"
        },
        "id": "Zn0mpt3WmnK-",
        "outputId": "9aed1d88-498f-465c-e585-dd0eba4c1a9c"
      },
      "outputs": [
        {
          "name": "stderr",
          "output_type": "stream",
          "text": [
            "c:\\Users\\Will\\OneDrive\\Documentos\\dev\\dados\\fiap_data_analytics\\.venv\\Lib\\site-packages\\sklearn\\base.py:493: UserWarning: X does not have valid feature names, but KNeighborsClassifier was fitted with feature names\n",
            "  warnings.warn(\n"
          ]
        },
        {
          "data": {
            "text/plain": [
              "array(['Esperança'], dtype=object)"
            ]
          },
          "execution_count": 16,
          "metadata": {},
          "output_type": "execute_result"
        }
      ],
      "source": [
        "# Comprimento AB: 8\n",
        "# Comprimento AT: 6\n",
        "modelo_classificador.predict([[8,6]])"
      ]
    },
    {
      "cell_type": "code",
      "execution_count": 17,
      "metadata": {
        "id": "QtSQ8818ZVkq"
      },
      "outputs": [],
      "source": [
        "from sklearn.metrics import accuracy_score"
      ]
    },
    {
      "cell_type": "code",
      "execution_count": 18,
      "metadata": {
        "id": "pMdTBio8Zppi"
      },
      "outputs": [],
      "source": [
        "y_predito = modelo_classificador.predict(x_test)"
      ]
    },
    {
      "cell_type": "code",
      "execution_count": 19,
      "metadata": {
        "colab": {
          "base_uri": "https://localhost:8080/"
        },
        "id": "CPMqbUgNZWiv",
        "outputId": "8e914a5a-3bb2-47ad-8b47-e53b3514716a"
      },
      "outputs": [
        {
          "data": {
            "text/plain": [
              "1.0"
            ]
          },
          "execution_count": 19,
          "metadata": {},
          "output_type": "execute_result"
        }
      ],
      "source": [
        "accuracy_score(y_true = y_test, y_pred=y_predito)"
      ]
    },
    {
      "cell_type": "code",
      "execution_count": 20,
      "metadata": {},
      "outputs": [
        {
          "data": {
            "text/plain": [
              "<Axes: >"
            ]
          },
          "execution_count": 20,
          "metadata": {},
          "output_type": "execute_result"
        },
        {
          "data": {
            "image/png": "[encoded data removed]",
            "text/plain": [
              "<Figure size 2500x1000 with 2 Axes>"
            ]
          },
          "metadata": {},
          "output_type": "display_data"
        }
      ],
      "source": [
        "import missingno as msno\n",
        "\n",
        "msno.matrix(dados)"
      ]
    },
    {
      "cell_type": "code",
      "execution_count": 24,
      "metadata": {},
      "outputs": [
        {
          "data": {
            "text/html": [
              "<div>\n",
              "<style scoped>\n",
              "    .dataframe tbody tr th:only-of-type {\n",
              "        vertical-align: middle;\n",
              "    }\n",
              "\n",
              "    .dataframe tbody tr th {\n",
              "        vertical-align: top;\n",
              "    }\n",
              "\n",
              "    .dataframe thead th {\n",
              "        text-align: right;\n",
              "    }\n",
              "</style>\n",
              "<table border=\"1\" class=\"dataframe\">\n",
              "  <thead>\n",
              "    <tr style=\"text-align: right;\">\n",
              "      <th></th>\n",
              "      <th>Comprimento do Abdômen</th>\n",
              "      <th>Comprimento das Antenas</th>\n",
              "    </tr>\n",
              "  </thead>\n",
              "  <tbody>\n",
              "    <tr>\n",
              "      <th>count</th>\n",
              "      <td>100.000000</td>\n",
              "      <td>100.000000</td>\n",
              "    </tr>\n",
              "    <tr>\n",
              "      <th>mean</th>\n",
              "      <td>4.936200</td>\n",
              "      <td>5.382400</td>\n",
              "    </tr>\n",
              "    <tr>\n",
              "      <th>std</th>\n",
              "      <td>3.343806</td>\n",
              "      <td>2.296001</td>\n",
              "    </tr>\n",
              "    <tr>\n",
              "      <th>min</th>\n",
              "      <td>0.500000</td>\n",
              "      <td>0.890000</td>\n",
              "    </tr>\n",
              "    <tr>\n",
              "      <th>25%</th>\n",
              "      <td>1.692500</td>\n",
              "      <td>3.775000</td>\n",
              "    </tr>\n",
              "    <tr>\n",
              "      <th>50%</th>\n",
              "      <td>4.500000</td>\n",
              "      <td>5.500000</td>\n",
              "    </tr>\n",
              "    <tr>\n",
              "      <th>75%</th>\n",
              "      <td>8.200000</td>\n",
              "      <td>7.000000</td>\n",
              "    </tr>\n",
              "    <tr>\n",
              "      <th>max</th>\n",
              "      <td>10.000000</td>\n",
              "      <td>9.700000</td>\n",
              "    </tr>\n",
              "  </tbody>\n",
              "</table>\n",
              "</div>"
            ],
            "text/plain": [
              "       Comprimento do Abdômen  Comprimento das Antenas\n",
              "count              100.000000               100.000000\n",
              "mean                 4.936200                 5.382400\n",
              "std                  3.343806                 2.296001\n",
              "min                  0.500000                 0.890000\n",
              "25%                  1.692500                 3.775000\n",
              "50%                  4.500000                 5.500000\n",
              "75%                  8.200000                 7.000000\n",
              "max                 10.000000                 9.700000"
            ]
          },
          "execution_count": 24,
          "metadata": {},
          "output_type": "execute_result"
        }
      ],
      "source": [
        "dados.describe()"
      ]
    },
    {
      "cell_type": "code",
      "execution_count": 25,
      "metadata": {},
      "outputs": [
        {
          "data": {
            "text/html": [
              "<div>\n",
              "<style scoped>\n",
              "    .dataframe tbody tr th:only-of-type {\n",
              "        vertical-align: middle;\n",
              "    }\n",
              "\n",
              "    .dataframe tbody tr th {\n",
              "        vertical-align: top;\n",
              "    }\n",
              "\n",
              "    .dataframe thead th {\n",
              "        text-align: right;\n",
              "    }\n",
              "</style>\n",
              "<table border=\"1\" class=\"dataframe\">\n",
              "  <thead>\n",
              "    <tr style=\"text-align: right;\">\n",
              "      <th></th>\n",
              "      <th>Espécie</th>\n",
              "      <th>Comprimento do Abdômen</th>\n",
              "      <th>Comprimento das Antenas</th>\n",
              "    </tr>\n",
              "  </thead>\n",
              "  <tbody>\n",
              "    <tr>\n",
              "      <th>0</th>\n",
              "      <td>Gafanhoto</td>\n",
              "      <td>0.50</td>\n",
              "      <td>7.0</td>\n",
              "    </tr>\n",
              "    <tr>\n",
              "      <th>1</th>\n",
              "      <td>Gafanhoto</td>\n",
              "      <td>0.50</td>\n",
              "      <td>6.0</td>\n",
              "    </tr>\n",
              "    <tr>\n",
              "      <th>2</th>\n",
              "      <td>Gafanhoto</td>\n",
              "      <td>0.60</td>\n",
              "      <td>5.5</td>\n",
              "    </tr>\n",
              "    <tr>\n",
              "      <th>3</th>\n",
              "      <td>Gafanhoto</td>\n",
              "      <td>0.65</td>\n",
              "      <td>4.5</td>\n",
              "    </tr>\n",
              "    <tr>\n",
              "      <th>4</th>\n",
              "      <td>Gafanhoto</td>\n",
              "      <td>0.54</td>\n",
              "      <td>3.2</td>\n",
              "    </tr>\n",
              "  </tbody>\n",
              "</table>\n",
              "</div>"
            ],
            "text/plain": [
              "     Espécie  Comprimento do Abdômen  Comprimento das Antenas\n",
              "0  Gafanhoto                    0.50                      7.0\n",
              "1  Gafanhoto                    0.50                      6.0\n",
              "2  Gafanhoto                    0.60                      5.5\n",
              "3  Gafanhoto                    0.65                      4.5\n",
              "4  Gafanhoto                    0.54                      3.2"
            ]
          },
          "execution_count": 25,
          "metadata": {},
          "output_type": "execute_result"
        }
      ],
      "source": [
        "dados.head()"
      ]
    },
    {
      "cell_type": "code",
      "execution_count": 26,
      "metadata": {},
      "outputs": [
        {
          "name": "stdout",
          "output_type": "stream",
          "text": [
            "0.7074235807860262\n"
          ]
        }
      ],
      "source": [
        "item0Normalizado = (7 - 5.38)/ 2.29\n",
        "\n",
        "print(item0Normalizado)"
      ]
    },
    {
      "cell_type": "code",
      "execution_count": 59,
      "metadata": {},
      "outputs": [],
      "source": [
        "def StdScalerManual(x):\n",
        "    \n",
        "    u = dados['Comprimento das Antenas'].mean()\n",
        "    \n",
        "    s = dados['Comprimento das Antenas'].std()\n",
        "\n",
        "    print (f'{x} - {u} / {s}')  \n",
        "\n",
        "    return (x -u) / s"
      ]
    },
    {
      "cell_type": "code",
      "execution_count": 44,
      "metadata": {},
      "outputs": [
        {
          "name": "stdout",
          "output_type": "stream",
          "text": [
            "<class 'pandas.core.frame.DataFrame'>\n",
            "RangeIndex: 100 entries, 0 to 99\n",
            "Data columns (total 3 columns):\n",
            " #   Column                   Non-Null Count  Dtype  \n",
            "---  ------                   --------------  -----  \n",
            " 0   Espécie                  100 non-null    object \n",
            " 1   Comprimento do Abdômen   100 non-null    float64\n",
            " 2   Comprimento das Antenas  100 non-null    float64\n",
            "dtypes: float64(2), object(1)\n",
            "memory usage: 2.5+ KB\n"
          ]
        }
      ],
      "source": [
        "dados.info()"
      ]
    },
    {
      "cell_type": "code",
      "execution_count": 60,
      "metadata": {},
      "outputs": [
        {
          "name": "stdout",
          "output_type": "stream",
          "text": [
            "7.0 - 5.382400000000001 / 2.2960005279272964\n",
            "6.0 - 5.382400000000001 / 2.2960005279272964\n",
            "5.5 - 5.382400000000001 / 2.2960005279272964\n",
            "4.5 - 5.382400000000001 / 2.2960005279272964\n",
            "3.2 - 5.382400000000001 / 2.2960005279272964\n",
            "2.2 - 5.382400000000001 / 2.2960005279272964\n",
            "1.75 - 5.382400000000001 / 2.2960005279272964\n",
            "1.0 - 5.382400000000001 / 2.2960005279272964\n",
            "0.89 - 5.382400000000001 / 2.2960005279272964\n",
            "1.0 - 5.382400000000001 / 2.2960005279272964\n",
            "1.5 - 5.382400000000001 / 2.2960005279272964\n",
            "5.5 - 5.382400000000001 / 2.2960005279272964\n",
            "1.0 - 5.382400000000001 / 2.2960005279272964\n",
            "4.7 - 5.382400000000001 / 2.2960005279272964\n",
            "3.1 - 5.382400000000001 / 2.2960005279272964\n",
            "1.9 - 5.382400000000001 / 2.2960005279272964\n",
            "4.0 - 5.382400000000001 / 2.2960005279272964\n",
            "4.76 - 5.382400000000001 / 2.2960005279272964\n",
            "2.5 - 5.382400000000001 / 2.2960005279272964\n",
            "4.7 - 5.382400000000001 / 2.2960005279272964\n",
            "3.0 - 5.382400000000001 / 2.2960005279272964\n",
            "4.0 - 5.382400000000001 / 2.2960005279272964\n",
            "4.1 - 5.382400000000001 / 2.2960005279272964\n",
            "5.5 - 5.382400000000001 / 2.2960005279272964\n",
            "3.3 - 5.382400000000001 / 2.2960005279272964\n",
            "5.2 - 5.382400000000001 / 2.2960005279272964\n",
            "4.3 - 5.382400000000001 / 2.2960005279272964\n",
            "4.1 - 5.382400000000001 / 2.2960005279272964\n",
            "4.24 - 5.382400000000001 / 2.2960005279272964\n",
            "4.4 - 5.382400000000001 / 2.2960005279272964\n",
            "3.0 - 5.382400000000001 / 2.2960005279272964\n",
            "4.07 - 5.382400000000001 / 2.2960005279272964\n",
            "6.0 - 5.382400000000001 / 2.2960005279272964\n",
            "1.7 - 5.382400000000001 / 2.2960005279272964\n",
            "2.1 - 5.382400000000001 / 2.2960005279272964\n",
            "2.7 - 5.382400000000001 / 2.2960005279272964\n",
            "3.0 - 5.382400000000001 / 2.2960005279272964\n",
            "2.3 - 5.382400000000001 / 2.2960005279272964\n",
            "4.0 - 5.382400000000001 / 2.2960005279272964\n",
            "3.78 - 5.382400000000001 / 2.2960005279272964\n",
            "3.5 - 5.382400000000001 / 2.2960005279272964\n",
            "3.0 - 5.382400000000001 / 2.2960005279272964\n",
            "3.6 - 5.382400000000001 / 2.2960005279272964\n",
            "4.12 - 5.382400000000001 / 2.2960005279272964\n",
            "3.89 - 5.382400000000001 / 2.2960005279272964\n",
            "3.76 - 5.382400000000001 / 2.2960005279272964\n",
            "4.3 - 5.382400000000001 / 2.2960005279272964\n",
            "2.2 - 5.382400000000001 / 2.2960005279272964\n",
            "3.6 - 5.382400000000001 / 2.2960005279272964\n",
            "4.0 - 5.382400000000001 / 2.2960005279272964\n",
            "6.6 - 5.382400000000001 / 2.2960005279272964\n",
            "4.7 - 5.382400000000001 / 2.2960005279272964\n",
            "9.1 - 5.382400000000001 / 2.2960005279272964\n",
            "8.5 - 5.382400000000001 / 2.2960005279272964\n",
            "4.5 - 5.382400000000001 / 2.2960005279272964\n",
            "5.5 - 5.382400000000001 / 2.2960005279272964\n",
            "7.7 - 5.382400000000001 / 2.2960005279272964\n",
            "7.0 - 5.382400000000001 / 2.2960005279272964\n",
            "9.7 - 5.382400000000001 / 2.2960005279272964\n",
            "8.76 - 5.382400000000001 / 2.2960005279272964\n",
            "8.9 - 5.382400000000001 / 2.2960005279272964\n",
            "9.5 - 5.382400000000001 / 2.2960005279272964\n",
            "8.5 - 5.382400000000001 / 2.2960005279272964\n",
            "8.2 - 5.382400000000001 / 2.2960005279272964\n",
            "8.6 - 5.382400000000001 / 2.2960005279272964\n",
            "6.9 - 5.382400000000001 / 2.2960005279272964\n",
            "6.9 - 5.382400000000001 / 2.2960005279272964\n",
            "8.5 - 5.382400000000001 / 2.2960005279272964\n",
            "7.6 - 5.382400000000001 / 2.2960005279272964\n",
            "7.0 - 5.382400000000001 / 2.2960005279272964\n",
            "8.0 - 5.382400000000001 / 2.2960005279272964\n",
            "8.0 - 5.382400000000001 / 2.2960005279272964\n",
            "7.4 - 5.382400000000001 / 2.2960005279272964\n",
            "8.2 - 5.382400000000001 / 2.2960005279272964\n",
            "7.0 - 5.382400000000001 / 2.2960005279272964\n",
            "6.7 - 5.382400000000001 / 2.2960005279272964\n",
            "9.0 - 5.382400000000001 / 2.2960005279272964\n",
            "7.4 - 5.382400000000001 / 2.2960005279272964\n",
            "8.0 - 5.382400000000001 / 2.2960005279272964\n",
            "7.9 - 5.382400000000001 / 2.2960005279272964\n",
            "5.5 - 5.382400000000001 / 2.2960005279272964\n",
            "6.0 - 5.382400000000001 / 2.2960005279272964\n",
            "5.6 - 5.382400000000001 / 2.2960005279272964\n",
            "6.2 - 5.382400000000001 / 2.2960005279272964\n",
            "6.7 - 5.382400000000001 / 2.2960005279272964\n",
            "5.7 - 5.382400000000001 / 2.2960005279272964\n",
            "4.9 - 5.382400000000001 / 2.2960005279272964\n",
            "6.0 - 5.382400000000001 / 2.2960005279272964\n",
            "9.0 - 5.382400000000001 / 2.2960005279272964\n",
            "8.9 - 5.382400000000001 / 2.2960005279272964\n",
            "7.4 - 5.382400000000001 / 2.2960005279272964\n",
            "6.22 - 5.382400000000001 / 2.2960005279272964\n",
            "7.0 - 5.382400000000001 / 2.2960005279272964\n",
            "6.6 - 5.382400000000001 / 2.2960005279272964\n",
            "6.8 - 5.382400000000001 / 2.2960005279272964\n",
            "6.2 - 5.382400000000001 / 2.2960005279272964\n",
            "8.1 - 5.382400000000001 / 2.2960005279272964\n",
            "4.7 - 5.382400000000001 / 2.2960005279272964\n",
            "6.0 - 5.382400000000001 / 2.2960005279272964\n",
            "7.0 - 5.382400000000001 / 2.2960005279272964\n"
          ]
        },
        {
          "name": "stderr",
          "output_type": "stream",
          "text": [
            "C:\\Users\\Will\\AppData\\Local\\Temp\\ipykernel_9100\\773761298.py:2: SettingWithCopyWarning: \n",
            "A value is trying to be set on a copy of a slice from a DataFrame.\n",
            "Try using .loc[row_indexer,col_indexer] = value instead\n",
            "\n",
            "See the caveats in the documentation: https://pandas.pydata.org/pandas-docs/stable/user_guide/indexing.html#returning-a-view-versus-a-copy\n",
            "  new_df['Comprimento das Antenas'] = new_df['Comprimento das Antenas'].apply(StdScalerManual)\n"
          ]
        },
        {
          "data": {
            "text/html": [
              "<div>\n",
              "<style scoped>\n",
              "    .dataframe tbody tr th:only-of-type {\n",
              "        vertical-align: middle;\n",
              "    }\n",
              "\n",
              "    .dataframe tbody tr th {\n",
              "        vertical-align: top;\n",
              "    }\n",
              "\n",
              "    .dataframe thead th {\n",
              "        text-align: right;\n",
              "    }\n",
              "</style>\n",
              "<table border=\"1\" class=\"dataframe\">\n",
              "  <thead>\n",
              "    <tr style=\"text-align: right;\">\n",
              "      <th></th>\n",
              "      <th>Comprimento do Abdômen</th>\n",
              "      <th>Comprimento das Antenas</th>\n",
              "    </tr>\n",
              "  </thead>\n",
              "  <tbody>\n",
              "    <tr>\n",
              "      <th>0</th>\n",
              "      <td>0.50</td>\n",
              "      <td>0.704529</td>\n",
              "    </tr>\n",
              "    <tr>\n",
              "      <th>1</th>\n",
              "      <td>0.50</td>\n",
              "      <td>0.268989</td>\n",
              "    </tr>\n",
              "    <tr>\n",
              "      <th>2</th>\n",
              "      <td>0.60</td>\n",
              "      <td>0.051220</td>\n",
              "    </tr>\n",
              "    <tr>\n",
              "      <th>3</th>\n",
              "      <td>0.65</td>\n",
              "      <td>-0.384320</td>\n",
              "    </tr>\n",
              "    <tr>\n",
              "      <th>4</th>\n",
              "      <td>0.54</td>\n",
              "      <td>-0.950522</td>\n",
              "    </tr>\n",
              "  </tbody>\n",
              "</table>\n",
              "</div>"
            ],
            "text/plain": [
              "   Comprimento do Abdômen  Comprimento das Antenas\n",
              "0                    0.50                 0.704529\n",
              "1                    0.50                 0.268989\n",
              "2                    0.60                 0.051220\n",
              "3                    0.65                -0.384320\n",
              "4                    0.54                -0.950522"
            ]
          },
          "execution_count": 60,
          "metadata": {},
          "output_type": "execute_result"
        }
      ],
      "source": [
        "new_df = dados[['Comprimento do Abdômen','Comprimento das Antenas']]\n",
        "new_df['Comprimento das Antenas'] = new_df['Comprimento das Antenas'].apply(StdScalerManual)\n",
        "\n",
        "new_df.head()"
      ]
    },
    {
      "cell_type": "code",
      "execution_count": 34,
      "metadata": {},
      "outputs": [
        {
          "data": {
            "text/plain": [
              "array([[-1.33337534,  0.70807874],\n",
              "       [-1.33337534,  0.2703446 ],\n",
              "       [-1.30331864,  0.05147753],\n",
              "       [-1.28829029, -0.3862566 ],\n",
              "       [-1.32135266, -0.95531099],\n",
              "       [-0.58195783, -1.39304513],\n",
              "       [-0.88252484, -1.59002549],\n",
              "       [-1.18309184, -1.91832609],\n",
              "       [-1.15303514, -1.96647685],\n",
              "       [-1.12297844, -1.91832609],\n",
              "       [-1.06286504, -1.69945902],\n",
              "       [-0.67212794,  0.05147753],\n",
              "       [-1.33337534, -1.91832609],\n",
              "       [-1.21314854, -0.29870978],\n",
              "       [-1.15303514, -0.9990844 ],\n",
              "       [-0.61201453, -1.52436537],\n",
              "       [-0.88252484, -0.60512367],\n",
              "       [-1.026797  , -0.27244573],\n",
              "       [-1.12297844, -1.26172488],\n",
              "       [-0.88252484, -0.29870978],\n",
              "       [-0.76229804, -1.04285781],\n",
              "       [-0.58195783, -0.60512367],\n",
              "       [-0.40161763, -0.56135026],\n",
              "       [-0.94564391,  0.05147753],\n",
              "       [-0.99072896, -0.91153757],\n",
              "       [-1.1470238 , -0.07984271],\n",
              "       [-0.70218464, -0.47380343],\n",
              "       [-0.72021866, -0.56135026],\n",
              "       [-0.74426402, -0.50006748],\n",
              "       [-0.82241144, -0.43003002],\n",
              "       [-0.88252484, -1.04285781],\n",
              "       [-1.12297844, -0.57448228],\n",
              "       [-1.03280834,  0.2703446 ],\n",
              "       [-1.12297844, -1.6119122 ],\n",
              "       [-1.24921658, -1.43681854],\n",
              "       [-0.94564391, -1.17417806],\n",
              "       [-0.64207123, -1.04285781],\n",
              "       [-0.74726969, -1.34927171],\n",
              "       [-0.97269494, -0.60512367],\n",
              "       [-0.8164001 , -0.70142519],\n",
              "       [-0.98171195, -0.82399074],\n",
              "       [-1.05384803, -1.04285781],\n",
              "       [-0.64808257, -0.78021733],\n",
              "       [-0.69016196, -0.55259558],\n",
              "       [-0.7562867 , -0.65327443],\n",
              "       [-0.77131505, -0.71017987],\n",
              "       [-0.88853618, -0.47380343],\n",
              "       [-1.03280834, -1.39304513],\n",
              "       [-1.09292174, -0.78021733],\n",
              "       [-1.12297844, -0.60512367],\n",
              "       [ 1.01104729,  0.53298509],\n",
              "       [ 0.95093389, -0.29870978],\n",
              "       [ 0.92087719,  1.62732044],\n",
              "       [ 0.13940298,  1.36467995],\n",
              "       [ 1.5220112 , -0.3862566 ],\n",
              "       [ 1.37172769,  0.05147753],\n",
              "       [ 0.53014008,  1.01449264],\n",
              "       [ 0.58123647,  0.70807874],\n",
              "       [ 1.5220112 ,  1.88996092],\n",
              "       [ 1.38375037,  1.47849083],\n",
              "       [ 0.31974318,  1.53977361],\n",
              "       [ 0.62031018,  1.80241409],\n",
              "       [ 1.22144419,  1.36467995],\n",
              "       [ 0.92087719,  1.23335971],\n",
              "       [ 1.07116069,  1.40845337],\n",
              "       [ 0.53014008,  0.66430533],\n",
              "       [ 0.71048028,  0.66430533],\n",
              "       [ 0.62031018,  1.36467995],\n",
              "       [ 1.16133079,  0.97071923],\n",
              "       [ 0.92087719,  0.70807874],\n",
              "       [ 0.62031018,  1.14581288],\n",
              "       [ 0.98099059,  1.14581288],\n",
              "       [ 1.05613234,  0.8831724 ],\n",
              "       [ 0.81267307,  1.23335971],\n",
              "       [ 1.37172769,  0.70807874],\n",
              "       [ 1.29358027,  0.5767585 ],\n",
              "       [ 1.22144419,  1.58354702],\n",
              "       [ 1.22144419,  0.8831724 ],\n",
              "       [ 1.41080141,  1.14581288],\n",
              "       [ 0.83070709,  1.10203947],\n",
              "       [ 0.80065039,  0.05147753],\n",
              "       [ 0.98099059,  0.2703446 ],\n",
              "       [ 1.02306997,  0.09525095],\n",
              "       [ 1.14329677,  0.35789143],\n",
              "       [ 1.16133079,  0.5767585 ],\n",
              "       [ 1.12826842,  0.13902436],\n",
              "       [ 1.1402911 , -0.21116295],\n",
              "       [ 0.53014008,  0.2703446 ],\n",
              "       [ 0.48204936,  1.58354702],\n",
              "       [ 0.68042358,  1.53977361],\n",
              "       [ 0.87879781,  0.8831724 ],\n",
              "       [ 0.7194973 ,  0.36664612],\n",
              "       [ 1.48293749,  0.70807874],\n",
              "       [ 0.65637822,  0.53298509],\n",
              "       [ 0.83070709,  0.62053192],\n",
              "       [ 1.44686945,  0.35789143],\n",
              "       [ 0.37985658,  1.1895863 ],\n",
              "       [ 1.28155759, -0.29870978],\n",
              "       [ 1.25150089,  0.2703446 ],\n",
              "       [ 1.00804162,  0.70807874]])"
            ]
          },
          "execution_count": 34,
          "metadata": {},
          "output_type": "execute_result"
        }
      ],
      "source": [
        "from sklearn.preprocessing import StandardScaler \n",
        "scaler = StandardScaler()\n",
        "novo_dados = dados.drop(columns='Espécie')\n",
        "scaler.fit(novo_dados)\n",
        "\n",
        "result = scaler.transform(novo_dados)\n",
        "result"
      ]
    },
    {
      "cell_type": "code",
      "execution_count": 61,
      "metadata": {},
      "outputs": [
        {
          "data": {
            "text/plain": [
              "array([[<Axes: title={'center': 'Comprimento do Abdômen'}>,\n",
              "        <Axes: title={'center': 'Comprimento das Antenas'}>]],\n",
              "      dtype=object)"
            ]
          },
          "execution_count": 61,
          "metadata": {},
          "output_type": "execute_result"
        },
        {
          "data": {
            "image/png": "[encoded data removed]",
            "text/plain": [
              "<Figure size 640x480 with 2 Axes>"
            ]
          },
          "metadata": {},
          "output_type": "display_data"
        }
      ],
      "source": [
        "dados.hist()"
      ]
    },
    {
      "cell_type": "code",
      "execution_count": 64,
      "metadata": {},
      "outputs": [
        {
          "data": {
            "text/html": [
              "<div>\n",
              "<style scoped>\n",
              "    .dataframe tbody tr th:only-of-type {\n",
              "        vertical-align: middle;\n",
              "    }\n",
              "\n",
              "    .dataframe tbody tr th {\n",
              "        vertical-align: top;\n",
              "    }\n",
              "\n",
              "    .dataframe thead th {\n",
              "        text-align: right;\n",
              "    }\n",
              "</style>\n",
              "<table border=\"1\" class=\"dataframe\">\n",
              "  <thead>\n",
              "    <tr style=\"text-align: right;\">\n",
              "      <th></th>\n",
              "      <th>Comprimento do Abdômen</th>\n",
              "      <th>Comprimento das Antenas</th>\n",
              "    </tr>\n",
              "  </thead>\n",
              "  <tbody>\n",
              "    <tr>\n",
              "      <th>Comprimento do Abdômen</th>\n",
              "      <td>1.000000</td>\n",
              "      <td>0.740651</td>\n",
              "    </tr>\n",
              "    <tr>\n",
              "      <th>Comprimento das Antenas</th>\n",
              "      <td>0.740651</td>\n",
              "      <td>1.000000</td>\n",
              "    </tr>\n",
              "  </tbody>\n",
              "</table>\n",
              "</div>"
            ],
            "text/plain": [
              "                         Comprimento do Abdômen  Comprimento das Antenas\n",
              "Comprimento do Abdômen                 1.000000                 0.740651\n",
              "Comprimento das Antenas                0.740651                 1.000000"
            ]
          },
          "execution_count": 64,
          "metadata": {},
          "output_type": "execute_result"
        }
      ],
      "source": [
        "matrix_correlacao = dados.corr(numeric_only=True)\n",
        "\n",
        "matrix_correlacao"
      ]
    },
    {
      "cell_type": "code",
      "execution_count": null,
      "metadata": {},
      "outputs": [],
      "source": []
    }
  ],
  "metadata": {
    "colab": {
      "provenance": []
    },
    "kernelspec": {
      "display_name": "Python 3",
      "name": "python3"
    },
    "language_info": {
      "codemirror_mode": {
        "name": "ipython",
        "version": 3
      },
      "file_extension": ".py",
      "mimetype": "text/x-python",
      "name": "python",
      "nbconvert_exporter": "python",
      "pygments_lexer": "ipython3",
      "version": "3.12.4"
    }
  },
  "nbformat": 4,
  "nbformat_minor": 0
}
